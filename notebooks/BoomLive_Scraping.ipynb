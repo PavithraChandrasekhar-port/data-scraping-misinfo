{
  "nbformat": 4,
  "nbformat_minor": 0,
  "metadata": {
    "colab": {
      "name": "BoomLive-Scraping",
      "provenance": [],
      "collapsed_sections": []
    },
    "kernelspec": {
      "display_name": "Python 3",
      "name": "python3"
    },
    "language_info": {
      "name": "python"
    }
  },
  "cells": [
    {
      "cell_type": "code",
      "metadata": {
        "colab": {
          "base_uri": "https://localhost:8080/"
        },
        "id": "M5pX2PBEVq5o",
        "outputId": "37169969-ee72-4bb3-b4e7-e48f59f537c1"
      },
      "source": [
        "!pip install selenium\n",
        "!pip install nltk"
      ],
      "execution_count": null,
      "outputs": [
        {
          "output_type": "stream",
          "text": [
            "Collecting selenium\n",
            "\u001b[?25l  Downloading https://files.pythonhosted.org/packages/80/d6/4294f0b4bce4de0abf13e17190289f9d0613b0a44e5dd6a7f5ca98459853/selenium-3.141.0-py2.py3-none-any.whl (904kB)\n",
            "\r\u001b[K     |▍                               | 10kB 16.1MB/s eta 0:00:01\r\u001b[K     |▊                               | 20kB 18.4MB/s eta 0:00:01\r\u001b[K     |█                               | 30kB 11.7MB/s eta 0:00:01\r\u001b[K     |█▌                              | 40kB 9.5MB/s eta 0:00:01\r\u001b[K     |█▉                              | 51kB 7.8MB/s eta 0:00:01\r\u001b[K     |██▏                             | 61kB 8.2MB/s eta 0:00:01\r\u001b[K     |██▌                             | 71kB 8.5MB/s eta 0:00:01\r\u001b[K     |███                             | 81kB 8.5MB/s eta 0:00:01\r\u001b[K     |███▎                            | 92kB 8.8MB/s eta 0:00:01\r\u001b[K     |███▋                            | 102kB 7.6MB/s eta 0:00:01\r\u001b[K     |████                            | 112kB 7.6MB/s eta 0:00:01\r\u001b[K     |████▍                           | 122kB 7.6MB/s eta 0:00:01\r\u001b[K     |████▊                           | 133kB 7.6MB/s eta 0:00:01\r\u001b[K     |█████                           | 143kB 7.6MB/s eta 0:00:01\r\u001b[K     |█████▍                          | 153kB 7.6MB/s eta 0:00:01\r\u001b[K     |█████▉                          | 163kB 7.6MB/s eta 0:00:01\r\u001b[K     |██████▏                         | 174kB 7.6MB/s eta 0:00:01\r\u001b[K     |██████▌                         | 184kB 7.6MB/s eta 0:00:01\r\u001b[K     |██████▉                         | 194kB 7.6MB/s eta 0:00:01\r\u001b[K     |███████▎                        | 204kB 7.6MB/s eta 0:00:01\r\u001b[K     |███████▋                        | 215kB 7.6MB/s eta 0:00:01\r\u001b[K     |████████                        | 225kB 7.6MB/s eta 0:00:01\r\u001b[K     |████████▎                       | 235kB 7.6MB/s eta 0:00:01\r\u001b[K     |████████▊                       | 245kB 7.6MB/s eta 0:00:01\r\u001b[K     |█████████                       | 256kB 7.6MB/s eta 0:00:01\r\u001b[K     |█████████▍                      | 266kB 7.6MB/s eta 0:00:01\r\u001b[K     |█████████▉                      | 276kB 7.6MB/s eta 0:00:01\r\u001b[K     |██████████▏                     | 286kB 7.6MB/s eta 0:00:01\r\u001b[K     |██████████▌                     | 296kB 7.6MB/s eta 0:00:01\r\u001b[K     |██████████▉                     | 307kB 7.6MB/s eta 0:00:01\r\u001b[K     |███████████▎                    | 317kB 7.6MB/s eta 0:00:01\r\u001b[K     |███████████▋                    | 327kB 7.6MB/s eta 0:00:01\r\u001b[K     |████████████                    | 337kB 7.6MB/s eta 0:00:01\r\u001b[K     |████████████▎                   | 348kB 7.6MB/s eta 0:00:01\r\u001b[K     |████████████▊                   | 358kB 7.6MB/s eta 0:00:01\r\u001b[K     |█████████████                   | 368kB 7.6MB/s eta 0:00:01\r\u001b[K     |█████████████▍                  | 378kB 7.6MB/s eta 0:00:01\r\u001b[K     |█████████████▊                  | 389kB 7.6MB/s eta 0:00:01\r\u001b[K     |██████████████▏                 | 399kB 7.6MB/s eta 0:00:01\r\u001b[K     |██████████████▌                 | 409kB 7.6MB/s eta 0:00:01\r\u001b[K     |██████████████▉                 | 419kB 7.6MB/s eta 0:00:01\r\u001b[K     |███████████████▏                | 430kB 7.6MB/s eta 0:00:01\r\u001b[K     |███████████████▋                | 440kB 7.6MB/s eta 0:00:01\r\u001b[K     |████████████████                | 450kB 7.6MB/s eta 0:00:01\r\u001b[K     |████████████████▎               | 460kB 7.6MB/s eta 0:00:01\r\u001b[K     |████████████████▋               | 471kB 7.6MB/s eta 0:00:01\r\u001b[K     |█████████████████               | 481kB 7.6MB/s eta 0:00:01\r\u001b[K     |█████████████████▍              | 491kB 7.6MB/s eta 0:00:01\r\u001b[K     |█████████████████▊              | 501kB 7.6MB/s eta 0:00:01\r\u001b[K     |██████████████████▏             | 512kB 7.6MB/s eta 0:00:01\r\u001b[K     |██████████████████▌             | 522kB 7.6MB/s eta 0:00:01\r\u001b[K     |██████████████████▉             | 532kB 7.6MB/s eta 0:00:01\r\u001b[K     |███████████████████▏            | 542kB 7.6MB/s eta 0:00:01\r\u001b[K     |███████████████████▋            | 552kB 7.6MB/s eta 0:00:01\r\u001b[K     |████████████████████            | 563kB 7.6MB/s eta 0:00:01\r\u001b[K     |████████████████████▎           | 573kB 7.6MB/s eta 0:00:01\r\u001b[K     |████████████████████▋           | 583kB 7.6MB/s eta 0:00:01\r\u001b[K     |█████████████████████           | 593kB 7.6MB/s eta 0:00:01\r\u001b[K     |█████████████████████▍          | 604kB 7.6MB/s eta 0:00:01\r\u001b[K     |█████████████████████▊          | 614kB 7.6MB/s eta 0:00:01\r\u001b[K     |██████████████████████          | 624kB 7.6MB/s eta 0:00:01\r\u001b[K     |██████████████████████▌         | 634kB 7.6MB/s eta 0:00:01\r\u001b[K     |██████████████████████▉         | 645kB 7.6MB/s eta 0:00:01\r\u001b[K     |███████████████████████▏        | 655kB 7.6MB/s eta 0:00:01\r\u001b[K     |███████████████████████▌        | 665kB 7.6MB/s eta 0:00:01\r\u001b[K     |████████████████████████        | 675kB 7.6MB/s eta 0:00:01\r\u001b[K     |████████████████████████▎       | 686kB 7.6MB/s eta 0:00:01\r\u001b[K     |████████████████████████▋       | 696kB 7.6MB/s eta 0:00:01\r\u001b[K     |█████████████████████████       | 706kB 7.6MB/s eta 0:00:01\r\u001b[K     |█████████████████████████▍      | 716kB 7.6MB/s eta 0:00:01\r\u001b[K     |█████████████████████████▊      | 727kB 7.6MB/s eta 0:00:01\r\u001b[K     |██████████████████████████      | 737kB 7.6MB/s eta 0:00:01\r\u001b[K     |██████████████████████████▍     | 747kB 7.6MB/s eta 0:00:01\r\u001b[K     |██████████████████████████▉     | 757kB 7.6MB/s eta 0:00:01\r\u001b[K     |███████████████████████████▏    | 768kB 7.6MB/s eta 0:00:01\r\u001b[K     |███████████████████████████▌    | 778kB 7.6MB/s eta 0:00:01\r\u001b[K     |████████████████████████████    | 788kB 7.6MB/s eta 0:00:01\r\u001b[K     |████████████████████████████▎   | 798kB 7.6MB/s eta 0:00:01\r\u001b[K     |████████████████████████████▋   | 808kB 7.6MB/s eta 0:00:01\r\u001b[K     |█████████████████████████████   | 819kB 7.6MB/s eta 0:00:01\r\u001b[K     |█████████████████████████████▍  | 829kB 7.6MB/s eta 0:00:01\r\u001b[K     |█████████████████████████████▊  | 839kB 7.6MB/s eta 0:00:01\r\u001b[K     |██████████████████████████████  | 849kB 7.6MB/s eta 0:00:01\r\u001b[K     |██████████████████████████████▍ | 860kB 7.6MB/s eta 0:00:01\r\u001b[K     |██████████████████████████████▉ | 870kB 7.6MB/s eta 0:00:01\r\u001b[K     |███████████████████████████████▏| 880kB 7.6MB/s eta 0:00:01\r\u001b[K     |███████████████████████████████▌| 890kB 7.6MB/s eta 0:00:01\r\u001b[K     |███████████████████████████████▉| 901kB 7.6MB/s eta 0:00:01\r\u001b[K     |████████████████████████████████| 911kB 7.6MB/s \n",
            "\u001b[?25hRequirement already satisfied: urllib3 in /usr/local/lib/python3.7/dist-packages (from selenium) (1.24.3)\n",
            "Installing collected packages: selenium\n",
            "Successfully installed selenium-3.141.0\n",
            "Requirement already satisfied: nltk in /usr/local/lib/python3.7/dist-packages (3.2.5)\n",
            "Requirement already satisfied: six in /usr/local/lib/python3.7/dist-packages (from nltk) (1.15.0)\n"
          ],
          "name": "stdout"
        }
      ]
    },
    {
      "cell_type": "code",
      "metadata": {
        "id": "Ec28-x_NknB-",
        "colab": {
          "base_uri": "https://localhost:8080/"
        },
        "outputId": "35e6804a-f2b5-449f-fa00-4e7c608e4b6b"
      },
      "source": [
        "#Importing libraries \n",
        "\n",
        "import csv\n",
        "from selenium import webdriver\n",
        "from bs4 import BeautifulSoup\n",
        "import pandas as pd \n",
        "import requests \n",
        "import urllib.request\n",
        "from time import sleep\n",
        "from random import randint\n",
        "import numpy as np\n",
        "import nltk\n",
        "from nltk import sent_tokenize\n",
        "nltk.download('punkt')  "
      ],
      "execution_count": null,
      "outputs": [
        {
          "output_type": "stream",
          "text": [
            "[nltk_data] Downloading package punkt to /root/nltk_data...\n",
            "[nltk_data]   Unzipping tokenizers/punkt.zip.\n"
          ],
          "name": "stdout"
        },
        {
          "output_type": "execute_result",
          "data": {
            "text/plain": [
              "True"
            ]
          },
          "metadata": {
            "tags": []
          },
          "execution_count": 2
        }
      ]
    },
    {
      "cell_type": "markdown",
      "metadata": {
        "id": "ZhAOdu8Qiiby"
      },
      "source": [
        ""
      ]
    },
    {
      "cell_type": "code",
      "metadata": {
        "id": "egI-PBYMroXY"
      },
      "source": [
        "#Empty Arrays \n",
        "news_links = []\n",
        "all_claims = []\n",
        "date = []\n",
        "data = []"
      ],
      "execution_count": null,
      "outputs": []
    },
    {
      "cell_type": "code",
      "metadata": {
        "id": "XFy_Ve07krLt",
        "colab": {
          "base_uri": "https://localhost:8080/"
        },
        "outputId": "5a8da837-9a90-4c7e-b8ee-978fe162fe7e"
      },
      "source": [
        "#Accesing html \n",
        "url = 'https://thelogicalindian.com/fact-check/'\n",
        "\n",
        "for page in range(1, 189):\n",
        "  urlpage = requests.get(url + str(page))\n",
        "  #print(page)\n",
        "  coverpage = urlpage.text\n",
        "  soup = BeautifulSoup(coverpage, 'html5lib')\n",
        "  #print(coverpage)\n",
        "\n",
        "#Finding div and class \n",
        "  covers = soup.find_all('h2', attrs={'class':'entry-title'})\n",
        "\n",
        "  for i in range(0,12):\n",
        "        if page >= 0:\n",
        "          pagelink ='https://www.boomlive.in' + covers[i].find('a')['href']\n",
        "          news_links.append(pagelink)\n",
        "\n",
        "          claim = requests.get(pagelink)\n",
        "          newsclaim = claim.content\n",
        "          soup_claim = BeautifulSoup(newsclaim, 'html5lib')\n",
        "\n",
        "          body = soup_claim.find('div', attrs={'class':'claim-value'})\n",
        "          #print(body)\n",
        "          try:\n",
        "            for x in body.find_all('span', attrs={'class':'heading'}):\n",
        "              x.decompose()\n",
        "              #print(x)\n",
        "          except:\n",
        "            pass\n",
        "\n",
        "          try:\n",
        "            factcheck = body.text\n",
        "            all_claims.append(factcheck)\n",
        "          except:\n",
        "            pass\n",
        "          #print(all_claims)\n",
        "\n",
        "          claim_date = soup_claim.find('span', attrs={'class':'date new-line-in-mobile margin-left-desktop'})\n",
        "          try:\n",
        "            date.append(claim_date.text)\n",
        "          #print(date)\n",
        "          except:\n",
        "            pass\n",
        "\n",
        "\n",
        "          sleep(randint(2, 3))\n",
        "\n",
        "print(page)\n",
        "          \n",
        "          \n"
      ],
      "execution_count": null,
      "outputs": [
        {
          "output_type": "stream",
          "text": [
            "188\n"
          ],
          "name": "stdout"
        }
      ]
    },
    {
      "cell_type": "code",
      "metadata": {
        "colab": {
          "base_uri": "https://localhost:8080/",
          "height": 289
        },
        "id": "e-aDbzPkRS_Z",
        "outputId": "a5698513-908b-46ce-8db1-fd0a3a0a1543"
      },
      "source": [
        "for n in range(0,len(all_claims)):\n",
        "  data.append((news_links[n], all_claims[n], date[n]))\n",
        "\n",
        "df = pd.DataFrame(data, columns=['Link','Claims','Date'])\n",
        "df.head()"
      ],
      "execution_count": null,
      "outputs": [
        {
          "output_type": "execute_result",
          "data": {
            "text/html": [
              "<div>\n",
              "<style scoped>\n",
              "    .dataframe tbody tr th:only-of-type {\n",
              "        vertical-align: middle;\n",
              "    }\n",
              "\n",
              "    .dataframe tbody tr th {\n",
              "        vertical-align: top;\n",
              "    }\n",
              "\n",
              "    .dataframe thead th {\n",
              "        text-align: right;\n",
              "    }\n",
              "</style>\n",
              "<table border=\"1\" class=\"dataframe\">\n",
              "  <thead>\n",
              "    <tr style=\"text-align: right;\">\n",
              "      <th></th>\n",
              "      <th>Link</th>\n",
              "      <th>Claims</th>\n",
              "      <th>Date</th>\n",
              "    </tr>\n",
              "  </thead>\n",
              "  <tbody>\n",
              "    <tr>\n",
              "      <th>0</th>\n",
              "      <td>https://www.boomlive.in/fact-check/fake-news-d...</td>\n",
              "      <td>Clip shows Muslim man stabs hindu wife</td>\n",
              "      <td>12 April 2021 10:59 AM GMT</td>\n",
              "    </tr>\n",
              "    <tr>\n",
              "      <th>1</th>\n",
              "      <td>https://www.boomlive.in/fact-check/bjp-bengal-...</td>\n",
              "      <td>Image shows CISF jawan attacked by TMC goons i...</td>\n",
              "      <td>12 April 2021 8:59 AM GMT</td>\n",
              "    </tr>\n",
              "    <tr>\n",
              "      <th>2</th>\n",
              "      <td>https://www.boomlive.in/fact-check/west-bengal...</td>\n",
              "      <td>This is how TMC has been doing rigging.</td>\n",
              "      <td>11 April 2021 1:08 PM GMT</td>\n",
              "    </tr>\n",
              "    <tr>\n",
              "      <th>3</th>\n",
              "      <td>https://www.boomlive.in/fact-check/fake-news-l...</td>\n",
              "      <td>BJP leader Locket Chatterjees car window broke...</td>\n",
              "      <td>10 April 2021 11:36 AM GMT</td>\n",
              "    </tr>\n",
              "    <tr>\n",
              "      <th>4</th>\n",
              "      <td>https://www.boomlive.in/fact-check/ever-given-...</td>\n",
              "      <td>Dhoom Horns are been blown as the ship finally...</td>\n",
              "      <td>9 April 2021 12:49 PM GMT</td>\n",
              "    </tr>\n",
              "  </tbody>\n",
              "</table>\n",
              "</div>"
            ],
            "text/plain": [
              "                                                Link  ...                        Date\n",
              "0  https://www.boomlive.in/fact-check/fake-news-d...  ...  12 April 2021 10:59 AM GMT\n",
              "1  https://www.boomlive.in/fact-check/bjp-bengal-...  ...   12 April 2021 8:59 AM GMT\n",
              "2  https://www.boomlive.in/fact-check/west-bengal...  ...   11 April 2021 1:08 PM GMT\n",
              "3  https://www.boomlive.in/fact-check/fake-news-l...  ...  10 April 2021 11:36 AM GMT\n",
              "4  https://www.boomlive.in/fact-check/ever-given-...  ...   9 April 2021 12:49 PM GMT\n",
              "\n",
              "[5 rows x 3 columns]"
            ]
          },
          "metadata": {
            "tags": []
          },
          "execution_count": 71
        }
      ]
    },
    {
      "cell_type": "code",
      "metadata": {
        "id": "ko1DkPYkq7xL"
      },
      "source": [
        "df = pd.DataFrame(data, columns=['Links','Claims', 'Date'])\n",
        "df.to_csv('Boom Live Scrape.csv', index=False, encoding='utf-8')"
      ],
      "execution_count": null,
      "outputs": []
    }
  ]
}