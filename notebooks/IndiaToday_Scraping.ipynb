{
  "nbformat": 4,
  "nbformat_minor": 0,
  "metadata": {
    "colab": {
      "name": "IndiaToday-Scraping",
      "provenance": [],
      "collapsed_sections": [],
      "history_visible": true
    },
    "kernelspec": {
      "display_name": "Python 3",
      "name": "python3"
    },
    "language_info": {
      "name": "python"
    }
  },
  "cells": [
    {
      "cell_type": "code",
      "metadata": {
        "colab": {
          "base_uri": "https://localhost:8080/"
        },
        "id": "M5pX2PBEVq5o",
        "outputId": "5a4e486a-b6e4-440c-82b8-f1e67140fb2f"
      },
      "source": [
        "!pip install selenium\n",
        "!pip install nltk"
      ],
      "execution_count": null,
      "outputs": [
        {
          "output_type": "stream",
          "text": [
            "Collecting selenium\n",
            "\u001b[?25l  Downloading https://files.pythonhosted.org/packages/80/d6/4294f0b4bce4de0abf13e17190289f9d0613b0a44e5dd6a7f5ca98459853/selenium-3.141.0-py2.py3-none-any.whl (904kB)\n",
            "\u001b[K     |████████████████████████████████| 911kB 5.2MB/s \n",
            "\u001b[?25hRequirement already satisfied: urllib3 in /usr/local/lib/python3.7/dist-packages (from selenium) (1.24.3)\n",
            "Installing collected packages: selenium\n",
            "Successfully installed selenium-3.141.0\n",
            "Requirement already satisfied: nltk in /usr/local/lib/python3.7/dist-packages (3.2.5)\n",
            "Requirement already satisfied: six in /usr/local/lib/python3.7/dist-packages (from nltk) (1.15.0)\n"
          ],
          "name": "stdout"
        }
      ]
    },
    {
      "cell_type": "code",
      "metadata": {
        "id": "Ec28-x_NknB-",
        "colab": {
          "base_uri": "https://localhost:8080/"
        },
        "outputId": "67e494e1-3105-4982-95ae-bad06e95ba11"
      },
      "source": [
        "#Importing libraries \n",
        "\n",
        "import csv\n",
        "from selenium import webdriver\n",
        "from bs4 import BeautifulSoup\n",
        "import pandas as pd \n",
        "import requests \n",
        "import urllib.request\n",
        "from time import sleep\n",
        "from random import randint\n",
        "import numpy as np\n",
        "import nltk\n",
        "from nltk import sent_tokenize\n",
        "nltk.download('punkt')  "
      ],
      "execution_count": null,
      "outputs": [
        {
          "output_type": "stream",
          "text": [
            "[nltk_data] Downloading package punkt to /root/nltk_data...\n",
            "[nltk_data]   Unzipping tokenizers/punkt.zip.\n"
          ],
          "name": "stdout"
        },
        {
          "output_type": "execute_result",
          "data": {
            "text/plain": [
              "True"
            ]
          },
          "metadata": {
            "tags": []
          },
          "execution_count": 2
        }
      ]
    },
    {
      "cell_type": "markdown",
      "metadata": {
        "id": "ZhAOdu8Qiiby"
      },
      "source": [
        ""
      ]
    },
    {
      "cell_type": "code",
      "metadata": {
        "id": "egI-PBYMroXY",
        "colab": {
          "base_uri": "https://localhost:8080/"
        },
        "outputId": "e1717e62-bedf-4289-a10a-013abfe419cd"
      },
      "source": [
        "#Empty Arrays \n",
        "news_links = []\n",
        "all_claims = []\n",
        "date = []\n",
        "data = []\n",
        "\n",
        "print(news_links)\n",
        "print(all_claims)\n",
        "print(data)"
      ],
      "execution_count": null,
      "outputs": [
        {
          "output_type": "stream",
          "text": [
            "[]\n",
            "[]\n",
            "[]\n"
          ],
          "name": "stdout"
        }
      ]
    },
    {
      "cell_type": "code",
      "metadata": {
        "id": "XFy_Ve07krLt"
      },
      "source": [
        "#Accesing html \n",
        "url = 'https://www.indiatoday.in/fact-check'\n",
        "\n",
        "for page in range(1,83):\n",
        "  urlpage = requests.get(url + '?page=' + str(page))\n",
        "  #print(page)\n",
        "  coverpage = urlpage.content\n",
        "  soup = BeautifulSoup(coverpage, 'html5lib')\n",
        "  #print(page)\n",
        "\n",
        "#Finding div and class \n",
        "  covers = soup.find_all('div', attrs={'class':'detail'})\n",
        "  \n",
        "  for i in range(0,12):\n",
        "        if page >= 1:\n",
        "          pagelink ='https://www.indiatoday.in/' + covers[i].find('a')['href']\n",
        "          news_links.append(pagelink)\n",
        "          \n",
        "  #sleep(randint(2, 5))\n",
        "#len(news_links)\n",
        "          \n",
        "          #Finding div and class to get claim & date \n",
        "          claim = requests.get(pagelink)\n",
        "          newsclaim = claim.content\n",
        "          soup_claim = BeautifulSoup(newsclaim, 'html5lib')\n",
        "\n",
        "          body = soup_claim.find('div', attrs={'class':'factcheck-review'})\n",
        "          try:\n",
        "            for x in body.find_all('span'):\n",
        "              x.decompose()\n",
        "          \n",
        "            factcheck = body.text.split(\".\")\n",
        "            all_claims.append(factcheck[0])\n",
        "          except:\n",
        "            pass\n",
        "          #print(all_claims)\n",
        "\n",
        "          claim_date = soup_claim.find('dt', attrs={'class':'pubdata'})\n",
        "          try:\n",
        "            date.append(claim_date.text)\n",
        "          #print(date)\n",
        "          except:\n",
        "            pass\n",
        "        \n",
        "          sleep(randint(2, 3))\n",
        "    \n",
        "#for n in range(0, len(all_claims)):\n",
        "  #data.append((news_links[n], all_claims[n], date[n]))\n",
        "\n",
        "#print(data)\n",
        "\n"
      ],
      "execution_count": null,
      "outputs": []
    },
    {
      "cell_type": "code",
      "metadata": {
        "id": "vgVlNzz61hhK"
      },
      "source": [
        "for n in range(0,len(all_claims)):\n",
        "  data.append((news_links[n], all_claims[n], date[n]))\n"
      ],
      "execution_count": null,
      "outputs": []
    },
    {
      "cell_type": "code",
      "metadata": {
        "id": "ko1DkPYkq7xL"
      },
      "source": [
        "df = pd.DataFrame(data, columns=['Link','Claims','Date'])"
      ],
      "execution_count": null,
      "outputs": []
    },
    {
      "cell_type": "code",
      "metadata": {
        "colab": {
          "base_uri": "https://localhost:8080/",
          "height": 289
        },
        "id": "pNky6j7sAh1l",
        "outputId": "00da20a7-db7c-469e-8251-3729cdab257b"
      },
      "source": [
        "df.head()"
      ],
      "execution_count": null,
      "outputs": [
        {
          "output_type": "execute_result",
          "data": {
            "text/html": [
              "<div>\n",
              "<style scoped>\n",
              "    .dataframe tbody tr th:only-of-type {\n",
              "        vertical-align: middle;\n",
              "    }\n",
              "\n",
              "    .dataframe tbody tr th {\n",
              "        vertical-align: top;\n",
              "    }\n",
              "\n",
              "    .dataframe thead th {\n",
              "        text-align: right;\n",
              "    }\n",
              "</style>\n",
              "<table border=\"1\" class=\"dataframe\">\n",
              "  <thead>\n",
              "    <tr style=\"text-align: right;\">\n",
              "      <th></th>\n",
              "      <th>Link</th>\n",
              "      <th>Claims</th>\n",
              "      <th>Date</th>\n",
              "    </tr>\n",
              "  </thead>\n",
              "  <tbody>\n",
              "    <tr>\n",
              "      <th>0</th>\n",
              "      <td>https://www.indiatoday.in//fact-check/story/fa...</td>\n",
              "      <td>Video shows former UP Shia Central Waqf Board...</td>\n",
              "      <td>March 30, 2021</td>\n",
              "    </tr>\n",
              "    <tr>\n",
              "      <th>1</th>\n",
              "      <td>https://www.indiatoday.in//fact-check/story/fa...</td>\n",
              "      <td>This picture was taken during the UPA regime ...</td>\n",
              "      <td>March 28, 2021</td>\n",
              "    </tr>\n",
              "    <tr>\n",
              "      <th>2</th>\n",
              "      <td>https://www.indiatoday.in//fact-check/story/fa...</td>\n",
              "      <td>Images show large crowd gathered for Rahul Ga...</td>\n",
              "      <td>March 27, 2021</td>\n",
              "    </tr>\n",
              "    <tr>\n",
              "      <th>3</th>\n",
              "      <td>https://www.indiatoday.in//fact-check/story/fa...</td>\n",
              "      <td>Picture of the funeral ceremony of freedom fi...</td>\n",
              "      <td>March 24, 2021</td>\n",
              "    </tr>\n",
              "    <tr>\n",
              "      <th>4</th>\n",
              "      <td>https://www.indiatoday.in//fact-check/story/fa...</td>\n",
              "      <td>Seven students died after falling off the fou...</td>\n",
              "      <td>March 24, 2021</td>\n",
              "    </tr>\n",
              "  </tbody>\n",
              "</table>\n",
              "</div>"
            ],
            "text/plain": [
              "                                                Link  ...            Date\n",
              "0  https://www.indiatoday.in//fact-check/story/fa...  ...  March 30, 2021\n",
              "1  https://www.indiatoday.in//fact-check/story/fa...  ...  March 28, 2021\n",
              "2  https://www.indiatoday.in//fact-check/story/fa...  ...  March 27, 2021\n",
              "3  https://www.indiatoday.in//fact-check/story/fa...  ...  March 24, 2021\n",
              "4  https://www.indiatoday.in//fact-check/story/fa...  ...  March 24, 2021\n",
              "\n",
              "[5 rows x 3 columns]"
            ]
          },
          "metadata": {
            "tags": []
          },
          "execution_count": 25
        }
      ]
    },
    {
      "cell_type": "code",
      "metadata": {
        "id": "INn0vGAhTAHm"
      },
      "source": [
        "df = pd.DataFrame(data, columns=['Links','Claims', 'Date'])\n",
        "df.to_csv('India Today Claims.csv', index=False, encoding='utf-8')"
      ],
      "execution_count": null,
      "outputs": []
    }
  ]
}